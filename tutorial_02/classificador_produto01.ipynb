{
 "cells": [
  {
   "cell_type": "code",
   "execution_count": 1,
   "metadata": {},
   "outputs": [],
   "source": [
    "from transformers import pipeline"
   ]
  },
  {
   "cell_type": "code",
   "execution_count": 2,
   "metadata": {},
   "outputs": [
    {
     "name": "stderr",
     "output_type": "stream",
     "text": [
      "Device set to use cuda:0\n"
     ]
    }
   ],
   "source": [
    "classificador = pipeline('zero-shot-classification', model='facebook/bart-large-mnli')"
   ]
  },
  {
   "cell_type": "code",
   "execution_count": 3,
   "metadata": {},
   "outputs": [],
   "source": [
    "categorias = ['eletronics', 'food', 'toys', 'books']"
   ]
  },
  {
   "cell_type": "code",
   "execution_count": 4,
   "metadata": {},
   "outputs": [],
   "source": [
    "predicao = classificador(\"\"\"\n",
    "    Latest model of smartphone with 5G connection and 128GB internal storage\n",
    "\"\"\", candidate_labels=categorias)"
   ]
  },
  {
   "cell_type": "code",
   "execution_count": 5,
   "metadata": {},
   "outputs": [
    {
     "data": {
      "text/plain": [
       "{'sequence': '\\n    Latest model of smartphone with 5G connection and 128GB internal storage\\n',\n",
       " 'labels': ['eletronics', 'books', 'toys', 'food'],\n",
       " 'scores': [0.8386489152908325,\n",
       "  0.05798647925257683,\n",
       "  0.05383487418293953,\n",
       "  0.04952971637248993]}"
      ]
     },
     "execution_count": 5,
     "metadata": {},
     "output_type": "execute_result"
    }
   ],
   "source": [
    "predicao"
   ]
  },
  {
   "cell_type": "code",
   "execution_count": 6,
   "metadata": {},
   "outputs": [
    {
     "name": "stderr",
     "output_type": "stream",
     "text": [
      "You are using a model of type T5 to instantiate a model of type t5. This is not supported for all configurations of models and can yield errors.\n",
      "You are using the default legacy behaviour of the <class 'transformers.models.t5.tokenization_t5.T5Tokenizer'>. This is expected, and simply means that the `legacy` (previous) behavior will be used so nothing changes for you. If you want to use the new behaviour, set `legacy=False`. This should only be set if you understand what it means, and thoroughly read the reason why this was added as explained in https://github.com/huggingface/transformers/pull/24565\n",
      "Device set to use cuda:0\n"
     ]
    }
   ],
   "source": [
    "from liqfit.pipeline import ZeroShotClassificationPipeline\n",
    "from liqfit.models import T5ForZeroShotClassification\n",
    "from transformers import T5Tokenizer\n",
    "\n",
    "model = T5ForZeroShotClassification.from_pretrained('knowledgator/comprehend_it-multilingual-t5-base')\n",
    "tokenizer = T5Tokenizer.from_pretrained('knowledgator/comprehend_it-multilingual-t5-base')\n",
    "\n",
    "classifier = ZeroShotClassificationPipeline(\n",
    "    model=model,\n",
    "    tokenizer=tokenizer,\n",
    "    hypothesis_template='{}',\n",
    "    encoder_decoder=True\n",
    ")"
   ]
  },
  {
   "cell_type": "code",
   "execution_count": 7,
   "metadata": {},
   "outputs": [],
   "source": [
    "descricao = \"\"\" \n",
    "    Este water gel leve e refrescante, proposiciona uma hidratação intensa e duradoura, ajuda a aliviar a sensação de pele seca e repuxada,\n",
    "\"\"\""
   ]
  },
  {
   "cell_type": "code",
   "execution_count": 8,
   "metadata": {},
   "outputs": [],
   "source": [
    "categorias_candidatas = ['beleza', 'cozinha', 'livros']"
   ]
  },
  {
   "cell_type": "code",
   "execution_count": 9,
   "metadata": {},
   "outputs": [
    {
     "name": "stderr",
     "output_type": "stream",
     "text": [
      "Asking to truncate to max_length but no maximum length is provided and the model has no predefined maximum length. Default to no truncation.\n"
     ]
    }
   ],
   "source": [
    "resultado = classifier(descricao, categorias_candidatas, multi_label=True)"
   ]
  },
  {
   "cell_type": "code",
   "execution_count": 10,
   "metadata": {},
   "outputs": [
    {
     "data": {
      "text/plain": [
       "{'sequence': ' \\n    Este water gel leve e refrescante, proposiciona uma hidratação intensa e duradoura, ajuda a aliviar a sensação de pele seca e repuxada,\\n',\n",
       " 'labels': ['beleza', 'livros', 'cozinha'],\n",
       " 'scores': [0.5260359644889832, 0.010608719661831856, 0.004840693436563015]}"
      ]
     },
     "execution_count": 10,
     "metadata": {},
     "output_type": "execute_result"
    }
   ],
   "source": [
    "resultado"
   ]
  },
  {
   "cell_type": "code",
   "execution_count": 11,
   "metadata": {},
   "outputs": [
    {
     "data": {
      "text/html": [
       "<div>\n",
       "<style scoped>\n",
       "    .dataframe tbody tr th:only-of-type {\n",
       "        vertical-align: middle;\n",
       "    }\n",
       "\n",
       "    .dataframe tbody tr th {\n",
       "        vertical-align: top;\n",
       "    }\n",
       "\n",
       "    .dataframe thead th {\n",
       "        text-align: right;\n",
       "    }\n",
       "</style>\n",
       "<table border=\"1\" class=\"dataframe\">\n",
       "  <thead>\n",
       "    <tr style=\"text-align: right;\">\n",
       "      <th></th>\n",
       "      <th>labels</th>\n",
       "      <th>scores</th>\n",
       "    </tr>\n",
       "  </thead>\n",
       "  <tbody>\n",
       "    <tr>\n",
       "      <th>0</th>\n",
       "      <td>beleza</td>\n",
       "      <td>0.526036</td>\n",
       "    </tr>\n",
       "    <tr>\n",
       "      <th>1</th>\n",
       "      <td>livros</td>\n",
       "      <td>0.010609</td>\n",
       "    </tr>\n",
       "    <tr>\n",
       "      <th>2</th>\n",
       "      <td>cozinha</td>\n",
       "      <td>0.004841</td>\n",
       "    </tr>\n",
       "  </tbody>\n",
       "</table>\n",
       "</div>"
      ],
      "text/plain": [
       "    labels    scores\n",
       "0   beleza  0.526036\n",
       "1   livros  0.010609\n",
       "2  cozinha  0.004841"
      ]
     },
     "execution_count": 11,
     "metadata": {},
     "output_type": "execute_result"
    }
   ],
   "source": [
    "import pandas as pd\n",
    "\n",
    "resultado = pd.DataFrame(resultado).drop(['sequence'], axis=1)\n",
    "resultado"
   ]
  },
  {
   "cell_type": "markdown",
   "metadata": {},
   "source": [
    "### Aplicando modelo aos dados"
   ]
  },
  {
   "cell_type": "code",
   "execution_count": 12,
   "metadata": {},
   "outputs": [
    {
     "data": {
      "text/html": [
       "<div>\n",
       "<style scoped>\n",
       "    .dataframe tbody tr th:only-of-type {\n",
       "        vertical-align: middle;\n",
       "    }\n",
       "\n",
       "    .dataframe tbody tr th {\n",
       "        vertical-align: top;\n",
       "    }\n",
       "\n",
       "    .dataframe thead th {\n",
       "        text-align: right;\n",
       "    }\n",
       "</style>\n",
       "<table border=\"1\" class=\"dataframe\">\n",
       "  <thead>\n",
       "    <tr style=\"text-align: right;\">\n",
       "      <th></th>\n",
       "      <th>Descrição</th>\n",
       "    </tr>\n",
       "  </thead>\n",
       "  <tbody>\n",
       "    <tr>\n",
       "      <th>0</th>\n",
       "      <td>Liquidificador de alta potência com jarra de v...</td>\n",
       "    </tr>\n",
       "    <tr>\n",
       "      <th>1</th>\n",
       "      <td>Forno Micro-ondas de 20 litros, com menu desco...</td>\n",
       "    </tr>\n",
       "    <tr>\n",
       "      <th>2</th>\n",
       "      <td>Máquina de café espresso com reservatório de á...</td>\n",
       "    </tr>\n",
       "    <tr>\n",
       "      <th>3</th>\n",
       "      <td>Torradeira com capacidade para quatro fatias e...</td>\n",
       "    </tr>\n",
       "    <tr>\n",
       "      <th>4</th>\n",
       "      <td>Panela elétrica multifuncional que cozinha, as...</td>\n",
       "    </tr>\n",
       "  </tbody>\n",
       "</table>\n",
       "</div>"
      ],
      "text/plain": [
       "                                           Descrição\n",
       "0  Liquidificador de alta potência com jarra de v...\n",
       "1  Forno Micro-ondas de 20 litros, com menu desco...\n",
       "2  Máquina de café espresso com reservatório de á...\n",
       "3  Torradeira com capacidade para quatro fatias e...\n",
       "4  Panela elétrica multifuncional que cozinha, as..."
      ]
     },
     "execution_count": 12,
     "metadata": {},
     "output_type": "execute_result"
    }
   ],
   "source": [
    "dados = pd.read_csv('https://raw.githubusercontent.com/alura-cursos/hugging_face/main/Dados/descricoes_produtos.csv')\n",
    "dados.head()"
   ]
  },
  {
   "cell_type": "code",
   "execution_count": 13,
   "metadata": {},
   "outputs": [],
   "source": [
    "categorias = ['eletromesticos', 'eletronicos', 'beleza', 'brinquedos']\n",
    "\n",
    "def categoriar(descricao):\n",
    "    resultado  = classifier(descricao, categorias, multi_label=False)\n",
    "    categoria_max = max(zip(resultado['labels'], resultado['scores']), key=lambda x: x[1])[0]\n",
    "    return categoria_max"
   ]
  },
  {
   "cell_type": "code",
   "execution_count": 15,
   "metadata": {},
   "outputs": [
    {
     "name": "stderr",
     "output_type": "stream",
     "text": [
      "You seem to be using the pipelines sequentially on GPU. In order to maximize efficiency please use a dataset\n"
     ]
    }
   ],
   "source": [
    "dados['Categoria'] = dados['Descrição'].apply(categoriar)"
   ]
  },
  {
   "cell_type": "code",
   "execution_count": 16,
   "metadata": {},
   "outputs": [
    {
     "data": {
      "text/html": [
       "<div>\n",
       "<style scoped>\n",
       "    .dataframe tbody tr th:only-of-type {\n",
       "        vertical-align: middle;\n",
       "    }\n",
       "\n",
       "    .dataframe tbody tr th {\n",
       "        vertical-align: top;\n",
       "    }\n",
       "\n",
       "    .dataframe thead th {\n",
       "        text-align: right;\n",
       "    }\n",
       "</style>\n",
       "<table border=\"1\" class=\"dataframe\">\n",
       "  <thead>\n",
       "    <tr style=\"text-align: right;\">\n",
       "      <th></th>\n",
       "      <th>Descrição</th>\n",
       "      <th>Categoria</th>\n",
       "    </tr>\n",
       "  </thead>\n",
       "  <tbody>\n",
       "    <tr>\n",
       "      <th>0</th>\n",
       "      <td>Liquidificador de alta potência com jarra de v...</td>\n",
       "      <td>eletronicos</td>\n",
       "    </tr>\n",
       "    <tr>\n",
       "      <th>1</th>\n",
       "      <td>Forno Micro-ondas de 20 litros, com menu desco...</td>\n",
       "      <td>eletronicos</td>\n",
       "    </tr>\n",
       "    <tr>\n",
       "      <th>2</th>\n",
       "      <td>Máquina de café espresso com reservatório de á...</td>\n",
       "      <td>eletronicos</td>\n",
       "    </tr>\n",
       "    <tr>\n",
       "      <th>3</th>\n",
       "      <td>Torradeira com capacidade para quatro fatias e...</td>\n",
       "      <td>eletronicos</td>\n",
       "    </tr>\n",
       "    <tr>\n",
       "      <th>4</th>\n",
       "      <td>Panela elétrica multifuncional que cozinha, as...</td>\n",
       "      <td>eletromesticos</td>\n",
       "    </tr>\n",
       "    <tr>\n",
       "      <th>5</th>\n",
       "      <td>Smartphone com 128GB de armazenamento e câmera...</td>\n",
       "      <td>eletronicos</td>\n",
       "    </tr>\n",
       "    <tr>\n",
       "      <th>6</th>\n",
       "      <td>Smartwatch monitoramento de passos, frequência...</td>\n",
       "      <td>eletronicos</td>\n",
       "    </tr>\n",
       "    <tr>\n",
       "      <th>7</th>\n",
       "      <td>Notebook gamer com placa de vídeo potente e te...</td>\n",
       "      <td>eletronicos</td>\n",
       "    </tr>\n",
       "    <tr>\n",
       "      <th>8</th>\n",
       "      <td>Smartphone com tela super retina XDR de 6,7 po...</td>\n",
       "      <td>beleza</td>\n",
       "    </tr>\n",
       "    <tr>\n",
       "      <th>9</th>\n",
       "      <td>Câmera digital com zoom óptico de 20x e vídeos...</td>\n",
       "      <td>eletronicos</td>\n",
       "    </tr>\n",
       "    <tr>\n",
       "      <th>10</th>\n",
       "      <td>Fone de ouvido sem fio com cancelamento de ruí...</td>\n",
       "      <td>eletronicos</td>\n",
       "    </tr>\n",
       "    <tr>\n",
       "      <th>11</th>\n",
       "      <td>Carregador portátil com capacidade de 20000mAh...</td>\n",
       "      <td>eletronicos</td>\n",
       "    </tr>\n",
       "    <tr>\n",
       "      <th>12</th>\n",
       "      <td>Creme hidratante com ácido hialurônico para to...</td>\n",
       "      <td>beleza</td>\n",
       "    </tr>\n",
       "    <tr>\n",
       "      <th>13</th>\n",
       "      <td>Shampoo fortalecedor com biotina e minerais pa...</td>\n",
       "      <td>beleza</td>\n",
       "    </tr>\n",
       "    <tr>\n",
       "      <th>14</th>\n",
       "      <td>Paleta de maquiagem com 24 cores, incluindo op...</td>\n",
       "      <td>beleza</td>\n",
       "    </tr>\n",
       "    <tr>\n",
       "      <th>15</th>\n",
       "      <td>vPerfume feminino com notas de jasmim e sândal...</td>\n",
       "      <td>beleza</td>\n",
       "    </tr>\n",
       "    <tr>\n",
       "      <th>16</th>\n",
       "      <td>Kit de barbear com creme, pós-barba e lâminas ...</td>\n",
       "      <td>beleza</td>\n",
       "    </tr>\n",
       "    <tr>\n",
       "      <th>17</th>\n",
       "      <td>Sérum facial anti-idade com vitamina C e ácido...</td>\n",
       "      <td>beleza</td>\n",
       "    </tr>\n",
       "    <tr>\n",
       "      <th>18</th>\n",
       "      <td>Máscara facial de argila purificante, ideal pa...</td>\n",
       "      <td>beleza</td>\n",
       "    </tr>\n",
       "    <tr>\n",
       "      <th>19</th>\n",
       "      <td>Quebra-cabeça de 1000 peças com imagem de pais...</td>\n",
       "      <td>brinquedos</td>\n",
       "    </tr>\n",
       "    <tr>\n",
       "      <th>20</th>\n",
       "      <td>Kit de ciências para crianças com experiências...</td>\n",
       "      <td>brinquedos</td>\n",
       "    </tr>\n",
       "    <tr>\n",
       "      <th>21</th>\n",
       "      <td>Jogo de tabuleiro clássico de estratégia para ...</td>\n",
       "      <td>brinquedos</td>\n",
       "    </tr>\n",
       "  </tbody>\n",
       "</table>\n",
       "</div>"
      ],
      "text/plain": [
       "                                            Descrição       Categoria\n",
       "0   Liquidificador de alta potência com jarra de v...     eletronicos\n",
       "1   Forno Micro-ondas de 20 litros, com menu desco...     eletronicos\n",
       "2   Máquina de café espresso com reservatório de á...     eletronicos\n",
       "3   Torradeira com capacidade para quatro fatias e...     eletronicos\n",
       "4   Panela elétrica multifuncional que cozinha, as...  eletromesticos\n",
       "5   Smartphone com 128GB de armazenamento e câmera...     eletronicos\n",
       "6   Smartwatch monitoramento de passos, frequência...     eletronicos\n",
       "7   Notebook gamer com placa de vídeo potente e te...     eletronicos\n",
       "8   Smartphone com tela super retina XDR de 6,7 po...          beleza\n",
       "9   Câmera digital com zoom óptico de 20x e vídeos...     eletronicos\n",
       "10  Fone de ouvido sem fio com cancelamento de ruí...     eletronicos\n",
       "11  Carregador portátil com capacidade de 20000mAh...     eletronicos\n",
       "12  Creme hidratante com ácido hialurônico para to...          beleza\n",
       "13  Shampoo fortalecedor com biotina e minerais pa...          beleza\n",
       "14  Paleta de maquiagem com 24 cores, incluindo op...          beleza\n",
       "15  vPerfume feminino com notas de jasmim e sândal...          beleza\n",
       "16  Kit de barbear com creme, pós-barba e lâminas ...          beleza\n",
       "17  Sérum facial anti-idade com vitamina C e ácido...          beleza\n",
       "18  Máscara facial de argila purificante, ideal pa...          beleza\n",
       "19  Quebra-cabeça de 1000 peças com imagem de pais...      brinquedos\n",
       "20  Kit de ciências para crianças com experiências...      brinquedos\n",
       "21  Jogo de tabuleiro clássico de estratégia para ...      brinquedos"
      ]
     },
     "execution_count": 16,
     "metadata": {},
     "output_type": "execute_result"
    }
   ],
   "source": [
    "dados"
   ]
  },
  {
   "cell_type": "code",
   "execution_count": null,
   "metadata": {},
   "outputs": [],
   "source": []
  }
 ],
 "metadata": {
  "kernelspec": {
   "display_name": "nlp",
   "language": "python",
   "name": "python3"
  },
  "language_info": {
   "codemirror_mode": {
    "name": "ipython",
    "version": 3
   },
   "file_extension": ".py",
   "mimetype": "text/x-python",
   "name": "python",
   "nbconvert_exporter": "python",
   "pygments_lexer": "ipython3",
   "version": "3.10.16"
  }
 },
 "nbformat": 4,
 "nbformat_minor": 2
}
